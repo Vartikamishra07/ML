{
 "cells": [
  {
   "cell_type": "code",
   "execution_count": 1,
   "metadata": {},
   "outputs": [],
   "source": [
    "# Implement Gradient Descent Algorithm to find the local minima of a function. \n",
    "# For example, find the local minima of the function y=(x+3)² starting from the point \n",
    "# x=2 "
   ]
  },
  {
   "cell_type": "code",
   "execution_count": 2,
   "metadata": {},
   "outputs": [],
   "source": [
    "import numpy as np\n",
    "\n",
    "# Define the function y = (x + 3)^2\n",
    "def func(x):\n",
    "    return (x + 3)**2\n",
    "\n",
    "# Define the derivative of the function: dy/dx = 2(x + 3)\n",
    "def derivative(x):\n",
    "    return 2 * (x + 3)"
   ]
  },
  {
   "cell_type": "code",
   "execution_count": 3,
   "metadata": {},
   "outputs": [],
   "source": [
    "# Implement Gradient Descent\n",
    "gd=[]\n",
    "def gradient_descent(starting_x, rate, iterations):\n",
    "    x = starting_x  # Starting point\n",
    "    gd.append(starting_x)\n",
    "    for i in range(iterations):\n",
    "        grad = derivative(x)  # Compute the gradient at x\n",
    "        x = x - rate * grad  # Update x based on gradient\n",
    "        gd.append(x)\n",
    "        print(f\"Iteration {i+1}: x = {x}, f(x) = {func(x)}\")\n",
    "    return x"
   ]
  },
  {
   "cell_type": "code",
   "execution_count": 4,
   "metadata": {},
   "outputs": [
    {
     "name": "stdout",
     "output_type": "stream",
     "text": [
      "Iteration 1: x = 1.0, f(x) = 16.0\n",
      "Iteration 2: x = 0.19999999999999996, f(x) = 10.240000000000002\n",
      "Iteration 3: x = -0.44000000000000017, f(x) = 6.553599999999998\n",
      "Iteration 4: x = -0.9520000000000001, f(x) = 4.194304\n",
      "Iteration 5: x = -1.3616000000000001, f(x) = 2.6843545599999996\n",
      "Iteration 6: x = -1.6892800000000001, f(x) = 1.7179869183999996\n",
      "Iteration 7: x = -1.951424, f(x) = 1.099511627776\n",
      "Iteration 8: x = -2.1611392, f(x) = 0.7036874417766399\n",
      "Iteration 9: x = -2.32891136, f(x) = 0.4503599627370493\n",
      "Iteration 10: x = -2.463129088, f(x) = 0.28823037615171165\n",
      "Iteration 11: x = -2.5705032704, f(x) = 0.1844674407370954\n",
      "Iteration 12: x = -2.6564026163200003, f(x) = 0.11805916207174093\n",
      "Iteration 13: x = -2.725122093056, f(x) = 0.07555786372591429\n",
      "Iteration 14: x = -2.7800976744448, f(x) = 0.04835703278458515\n",
      "Iteration 15: x = -2.82407813955584, f(x) = 0.030948500982134555\n",
      "Iteration 16: x = -2.8592625116446717, f(x) = 0.019807040628566166\n",
      "Iteration 17: x = -2.8874100093157375, f(x) = 0.012676506002282305\n",
      "Iteration 18: x = -2.90992800745259, f(x) = 0.008112963841460692\n",
      "Iteration 19: x = -2.927942405962072, f(x) = 0.005192296858534868\n",
      "Iteration 20: x = -2.9423539247696575, f(x) = 0.0033230699894623056\n",
      "Iteration 21: x = -2.953883139815726, f(x) = 0.002126764793255884\n",
      "Iteration 22: x = -2.9631065118525806, f(x) = 0.0013611294676837786\n",
      "Iteration 23: x = -2.9704852094820646, f(x) = 0.0008711228593176078\n",
      "Iteration 24: x = -2.9763881675856516, f(x) = 0.0005575186299632732\n",
      "Iteration 25: x = -2.981110534068521, f(x) = 0.00035681192317650156\n",
      "Iteration 26: x = -2.984888427254817, f(x) = 0.00022835963083295564\n",
      "Iteration 27: x = -2.9879107418038537, f(x) = 0.00014615016373308945\n",
      "Iteration 28: x = -2.990328593443083, f(x) = 9.353610478917726e-05\n",
      "Iteration 29: x = -2.9922628747544664, f(x) = 5.986310706507345e-05\n",
      "Iteration 30: x = -2.993810299803573, f(x) = 3.83123885216492e-05\n",
      "Iteration 31: x = -2.995048239842858, f(x) = 2.451992865385725e-05\n",
      "Iteration 32: x = -2.9960385918742864, f(x) = 1.5692754338469342e-05\n",
      "Iteration 33: x = -2.9968308734994293, f(x) = 1.0043362776619253e-05\n",
      "Iteration 34: x = -2.9974646987995435, f(x) = 6.427752177036323e-06\n",
      "Iteration 35: x = -2.997971759039635, f(x) = 4.113761393302886e-06\n",
      "Iteration 36: x = -2.998377407231708, f(x) = 2.6328072917135587e-06\n",
      "Iteration 37: x = -2.998701925785366, f(x) = 1.6849966666971388e-06\n",
      "Iteration 38: x = -2.998961540628293, f(x) = 1.0783978666865378e-06\n",
      "Iteration 39: x = -2.9991692325026342, f(x) = 6.901746346793842e-07\n",
      "Iteration 40: x = -2.9993353860021075, f(x) = 4.417117661946878e-07\n",
      "Iteration 41: x = -2.999468308801686, f(x) = 2.826955303647891e-07\n",
      "Iteration 42: x = -2.9995746470413485, f(x) = 1.8092513943361614e-07\n",
      "Iteration 43: x = -2.9996597176330786, f(x) = 1.1579208923763523e-07\n",
      "Iteration 44: x = -2.999727774106463, f(x) = 7.410693711203819e-08\n",
      "Iteration 45: x = -2.99978221928517, f(x) = 4.7428439751781807e-08\n",
      "Iteration 46: x = -2.9998257754281363, f(x) = 3.035420144107846e-08\n",
      "Iteration 47: x = -2.999860620342509, f(x) = 1.9426688922339734e-08\n",
      "Iteration 48: x = -2.999888496274007, f(x) = 1.243308091029743e-08\n",
      "Iteration 49: x = -2.9999107970192056, f(x) = 7.9571717826062e-09\n",
      "Iteration 50: x = -2.9999286376153647, f(x) = 5.092589940842615e-09\n",
      "Local minimum occurs at x = -2.9999286376153647\n"
     ]
    }
   ],
   "source": [
    "# Initial point, learning rate, and number of iterations , here we are running the above function\n",
    "starting_x = 2\n",
    "rate = 0.1  # Step size\n",
    "iterations = 50\n",
    "\n",
    "# Perform Gradient Descent\n",
    "min_x = gradient_descent(starting_x, rate, iterations)\n",
    "print(f\"Local minimum occurs at x = {min_x}\")"
   ]
  },
  {
   "cell_type": "code",
   "execution_count": 10,
   "metadata": {},
   "outputs": [
    {
     "data": {
      "image/png": "[encoded data removed]",
      "text/plain": [
       "<Figure size 640x480 with 1 Axes>"
      ]
     },
     "metadata": {},
     "output_type": "display_data"
    }
   ],
   "source": [
    "import seaborn as sns\n",
    "import matplotlib.pyplot as plt\n",
    "\n",
    "f_values = [func(x) for x in gd]\n",
    "sns.scatterplot(x=gd,y=f_values)\n",
    "plt.xlabel(\"x values\")\n",
    "plt.ylabel(\"f(x) values\")\n",
    "plt.show()"
   ]
  }
 ],
 "metadata": {
  "kernelspec": {
   "display_name": "Python 3",
   "language": "python",
   "name": "python3"
  },
  "language_info": {
   "codemirror_mode": {
    "name": "ipython",
    "version": 3
   },
   "file_extension": ".py",
   "mimetype": "text/x-python",
   "name": "python",
   "nbconvert_exporter": "python",
   "pygments_lexer": "ipython3",
   "version": "3.10.5"
  }
 },
 "nbformat": 4,
 "nbformat_minor": 2
}
